{
 "cells": [
  {
   "cell_type": "markdown",
   "id": "a4c6b7c5",
   "metadata": {},
   "source": [
    "# Assignment_1 | FSDS 2.O | 01 nov, 2022"
   ]
  },
  {
   "cell_type": "markdown",
   "id": "78716b40",
   "metadata": {},
   "source": [
    "Q1.\n",
    "solution: -\n",
    "\n",
    "'hello'     - String\n",
    "-87.08, 6   - Integer\n",
    "-, /, +     - mMthematical Operation"
   ]
  },
  {
   "cell_type": "markdown",
   "id": "737caf44",
   "metadata": {},
   "source": [
    "Q2.\n",
    "solution: -\n",
    "\n",
    "string is a primitive data type which stores words, special characters, sentences etc. where as data tpes describes the type and nature of data. string is understand as the sub set of data type. Exanples of data types are int, float, str etc."
   ]
  },
  {
   "cell_type": "markdown",
   "id": "687e6d94",
   "metadata": {},
   "source": [
    "Q3.\n",
    "solution: -\n",
    "\n",
    "The three major Data types are integer, floating and string data types.\n",
    "\n",
    "a. Integer Data Type is denoted and is use in programming as 'int'. It stores integer values only. Python has no length              restriction for interger data type.\n",
    "b. Floating Data Type is denoted and is use in programming as 'float'. it store the floating/decimal data.\n",
    "c. string is a collection of letters, words, special characters, numbers in ordered manner in a close inversted or double          comma. In programming it is used as 'str'. One can access character or sequence of character from the string."
   ]
  },
  {
   "cell_type": "markdown",
   "id": "37a200ea",
   "metadata": {},
   "source": [
    "Q4.\n",
    "solution: -\n",
    "\n",
    "Expression: An expression is a combination of operators, constants and variables. An expression may consist of one or more operands, and zero or more operators to produce a value. A function is a expression.\n"
   ]
  },
  {
   "cell_type": "markdown",
   "id": "11da7d83",
   "metadata": {},
   "source": [
    "Q5.\n",
    "solution: -\n",
    "    \n",
    "Expression: An expression is a combination of operators, constants and variables. An expression may consist of one or more operands, and zero or more operators to produce a value. A function is a expression. Expressions always returns a value \n",
    "\n",
    "Statements: An statements never return any value/can not print any value. these are the types of statements.\n",
    "Simple statements\n",
    "Multi-line statements\n",
    "Multiple statements in a single line\n",
    "Selection statements\n",
    "Iterative statements\n",
    "Jump statements"
   ]
  },
  {
   "cell_type": "markdown",
   "id": "bf07208f",
   "metadata": {},
   "source": [
    "Q6.\n",
    "solution: -\n",
    "\n",
    "bacon = 22\n",
    "bacon + 1 will give the result 23 as +1 increase the bacon variable by 1 unit."
   ]
  },
  {
   "cell_type": "markdown",
   "id": "bc0167fa",
   "metadata": {},
   "source": [
    "Q7.\n",
    "solution: -\n",
    "\n",
    "The value of term 'spam' + 'spamspam' is spamspamspam and value of second term 'spam'*3 is also same, i.e., spamspamspam.\n"
   ]
  },
  {
   "cell_type": "markdown",
   "id": "7d623824",
   "metadata": {},
   "source": [
    "Q8.\n",
    "solution: -\n",
    "\n",
    "Variables can only starts with alphabets and underscore(_) so egges can be a valid variable but 100 is not a valid variable as it starts with a numerical value.\n",
    "\n"
   ]
  },
  {
   "cell_type": "markdown",
   "id": "d8e82cf1",
   "metadata": {},
   "source": [
    "Q9.\n",
    "solution: -\n",
    "\n",
    "We can use int() function for getting integer data type, float() for floating data tye and str() for getting a string data type out of any data type.\n"
   ]
  },
  {
   "cell_type": "markdown",
   "id": "bffa6bd7",
   "metadata": {},
   "source": [
    "Q10.\n",
    "solution: -\n",
    "\n",
    "Concatination can happend only in string data type. In the given expression 99 is not a string value so, to correct this error we have to first convert 99 into string variable. For converting 99 into string we can enclose it in inverted comma.\n",
    "\n",
    "The code can be re-writtn as: -\n",
    "'I have eaten' + '99' + 'burritos.'"
   ]
  }
 ],
 "metadata": {
  "kernelspec": {
   "display_name": "Python 3 (ipykernel)",
   "language": "python",
   "name": "python3"
  },
  "language_info": {
   "codemirror_mode": {
    "name": "ipython",
    "version": 3
   },
   "file_extension": ".py",
   "mimetype": "text/x-python",
   "name": "python",
   "nbconvert_exporter": "python",
   "pygments_lexer": "ipython3",
   "version": "3.9.13"
  }
 },
 "nbformat": 4,
 "nbformat_minor": 5
}
