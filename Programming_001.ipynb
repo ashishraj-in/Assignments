{
 "cells": [
  {
   "cell_type": "markdown",
   "id": "c53be800",
   "metadata": {},
   "source": [
    "# Programming_001 | FSDS 2.0 | 14 April, 2023"
   ]
  },
  {
   "cell_type": "markdown",
   "id": "193aada7",
   "metadata": {},
   "source": [
    "1. Write a Python program to print \"Hello Python\"?\n",
    "\n",
    "Sol: - \n",
    "\n",
    "print(\"Hello Python\")\n"
   ]
  },
  {
   "cell_type": "markdown",
   "id": "b45a8403",
   "metadata": {},
   "source": [
    "2. Write a Python program to do arithmetical operations addition and division.?\n",
    "\n",
    "x=5\n",
    "y=10\n",
    "\n",
    "#Addition\n",
    "add = x+y\n",
    "\n",
    "#Division\n",
    "div = x/y"
   ]
  },
  {
   "cell_type": "markdown",
   "id": "22c9d4d0",
   "metadata": {},
   "source": [
    "\"\"\"3. Write a Python program to find the area of a triangle?\n",
    "\n",
    "Soln: - \n",
    "\n",
    "import math\n",
    "def area(a,b,c):\n",
    "    s = ((a+b+c)/2)\n",
    "    area = math.sqrt(s(s-a)(s-b)(s-c))\n",
    "    print(area)\n",
    "    \n",
    "\"\"\""
   ]
  },
  {
   "cell_type": "markdown",
   "id": "e3f19169",
   "metadata": {},
   "source": [
    "\"\"\"4. Write a Python program to swap two variables?\n",
    "\n",
    "Soln: - Code given below.\n",
    "\n",
    "x = 10\n",
    "y = 50\n",
    "\n",
    "temp = x\n",
    "x = y\n",
    "y = temp\n",
    "\n",
    "print(\"Value of x:\", x)\n",
    "print(\"Value of y:\", y)\n",
    "\n",
    "\"\"\""
   ]
  },
  {
   "cell_type": "markdown",
   "id": "3d99da58",
   "metadata": {},
   "source": [
    "\"\"\"5. Write a Python program to generate a random number?\n",
    "\n",
    "Soln: - Code given below.\n",
    "\n",
    "import random\n",
    "num = random.random()\n",
    "print(num)\n",
    "\n",
    "\"\"\""
   ]
  },
  {
   "cell_type": "code",
   "execution_count": null,
   "id": "258a98c8",
   "metadata": {},
   "outputs": [],
   "source": []
  }
 ],
 "metadata": {
  "kernelspec": {
   "display_name": "Python 3 (ipykernel)",
   "language": "python",
   "name": "python3"
  },
  "language_info": {
   "codemirror_mode": {
    "name": "ipython",
    "version": 3
   },
   "file_extension": ".py",
   "mimetype": "text/x-python",
   "name": "python",
   "nbconvert_exporter": "python",
   "pygments_lexer": "ipython3",
   "version": "3.9.13"
  }
 },
 "nbformat": 4,
 "nbformat_minor": 5
}
