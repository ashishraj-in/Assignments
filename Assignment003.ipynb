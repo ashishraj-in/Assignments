{
 "cells": [
  {
   "cell_type": "markdown",
   "id": "de1eb632",
   "metadata": {},
   "source": [
    "# Assignment_3 | FSDS 2.0 | 08 Jan, 2023"
   ]
  },
  {
   "cell_type": "markdown",
   "id": "6e92d9b8",
   "metadata": {},
   "source": [
    "1. Why are functions advantageous to have in your programs?\n",
    "\n",
    "Sol: -\n",
    "    Function is a set of codes which we can reuse it multiple time. hence function make our coding little easy and it helps us to write cide in very less amount of time."
   ]
  },
  {
   "cell_type": "markdown",
   "id": "58d813f8",
   "metadata": {},
   "source": [
    "2. When does the code in a function run: when it's specified or when it's called?\n",
    "\n",
    "sol: - Code of function runs in both case. if function is asking for some argument then function need to be called and when all the arguments decleared in the function itself then function runs on specification only."
   ]
  },
  {
   "cell_type": "markdown",
   "id": "3606eb02",
   "metadata": {},
   "source": [
    "3. What statement creates a function?\n",
    "\n",
    "Sol: - To decleared any function we use the keyword \"def\" and then function name followed by \":\" and then statement is written which need to be execute by function and then a return statement is written according to the demand of function created. "
   ]
  },
  {
   "cell_type": "markdown",
   "id": "b9d6a707",
   "metadata": {},
   "source": [
    "4. What is the difference between a function and a function call?\n",
    "\n",
    "Sol: - A function call means invoking or calling that function. Unless a function is called there is no use of that function. So the difference between the function and function call is, A function is procedure to achieve a particular result while function call is using this function to achive that task."
   ]
  },
  {
   "cell_type": "markdown",
   "id": "e706fc06",
   "metadata": {},
   "source": [
    "5. How many global scopes are there in a Python program? How many local scopes?\n",
    "\n",
    "Sol: - There is only one gloabal variable in a python programming but can be many local variable."
   ]
  },
  {
   "cell_type": "markdown",
   "id": "6cb2afc6",
   "metadata": {},
   "source": [
    "6. What happens to variables in a local scope when the function call returns?\n",
    "\n",
    "Sol: - A local variable retains its value until the next time the function is called A local variable becomes undefined after the function call completes The local variable can be used outside the function any time after the function call completes."
   ]
  },
  {
   "cell_type": "markdown",
   "id": "60145320",
   "metadata": {},
   "source": [
    "7. What is the concept of a return value? Is it possible to have a return value in an expression?\n",
    "\n",
    "sol: - When we write a user-defined function, we get to determine whether our function will return a value back to the caller or not. To return a value back to the caller, two things are needed.\n",
    "\n",
    "First, our function has to indicate what type of value will be returned. This is done by setting the function’s return type, which is the type that is defined before the function’s name.\n",
    "\n",
    "Second, inside the function that will return a value, we use a return statement to indicate the specific value being returned to the caller. The specific value returned from a function is called the return value. When the return statement is executed, the function exits immediately, and the return value is copied from the function back to the caller"
   ]
  },
  {
   "cell_type": "markdown",
   "id": "a2f43dfe",
   "metadata": {},
   "source": [
    "8. If a function does not have a return statement, what is the return value of a call to that function?\n",
    "\n",
    "Sol: - In this case function will return only the print statement inside the function, in all other cases it will return nothing."
   ]
  },
  {
   "cell_type": "markdown",
   "id": "68f3654b",
   "metadata": {},
   "source": [
    "9. How do you make a function variable refer to the global variable?\n",
    "\n",
    "Sol: - Normally, when you create a variable inside a function, that variable is local, and can only be used inside that function. To create a global variable inside a function, you can use the global keyword. If you use the global keyword, the variable belongs to the global scope.\n"
   ]
  },
  {
   "cell_type": "markdown",
   "id": "af205e62",
   "metadata": {},
   "source": [
    "10. What is the data type of None?\n",
    "\n",
    "Sol: - NoneType datatype."
   ]
  },
  {
   "cell_type": "markdown",
   "id": "7c14b9d8",
   "metadata": {},
   "source": [
    "11. What does the sentence import areallyourpetsnamederic do?\n",
    "\n",
    "Sol: -That import statement imports a module named areallyourpetsnamederic."
   ]
  },
  {
   "cell_type": "markdown",
   "id": "ac5f2b95",
   "metadata": {},
   "source": [
    "12. If you had a bacon() feature in a spam module, what would you call it after importing spam?\n",
    "\n",
    "Sol: -This function can be called with spam.bacon()."
   ]
  },
  {
   "cell_type": "markdown",
   "id": "53cc31a1",
   "metadata": {},
   "source": [
    "13. What can you do to save a programme from crashing if it encounters an error?\n",
    "\n",
    "Sol: - We will use the try clause. We place all the codes which may cause any error in try block."
   ]
  },
  {
   "cell_type": "markdown",
   "id": "60d465e7",
   "metadata": {},
   "source": [
    "14. What is the purpose of the try clause? What is the purpose of the except clause?\n",
    "\n",
    "Sol: - Try clause help in handaling the exceptions. The code which execute and give error it will go in except clause. "
   ]
  },
  {
   "cell_type": "code",
   "execution_count": null,
   "id": "d3d1f769",
   "metadata": {},
   "outputs": [],
   "source": []
  }
 ],
 "metadata": {
  "kernelspec": {
   "display_name": "Python 3 (ipykernel)",
   "language": "python",
   "name": "python3"
  },
  "language_info": {
   "codemirror_mode": {
    "name": "ipython",
    "version": 3
   },
   "file_extension": ".py",
   "mimetype": "text/x-python",
   "name": "python",
   "nbconvert_exporter": "python",
   "pygments_lexer": "ipython3",
   "version": "3.9.13"
  }
 },
 "nbformat": 4,
 "nbformat_minor": 5
}
