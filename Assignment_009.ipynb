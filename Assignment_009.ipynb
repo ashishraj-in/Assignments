{
 "cells": [
  {
   "cell_type": "markdown",
   "id": "5525cbd2",
   "metadata": {},
   "source": [
    "# Assignment_09 | FSDS 2.0 | 7th June, 2023"
   ]
  },
  {
   "cell_type": "markdown",
   "id": "8fa1fb2e",
   "metadata": {},
   "source": [
    "\"\"\"1. To what does a relative path refer?\n",
    "\n",
    "Soln: - A relative path. is a way to locate a file or folder on a file system starting from the current directory.\"\"\""
   ]
  },
  {
   "cell_type": "markdown",
   "id": "0a1ba0be",
   "metadata": {},
   "source": [
    "\"\"\"2. What does an absolute path start with your operating system?\n",
    "\n",
    "Soln: - The absolute path is started with the root directory.\"\"\""
   ]
  },
  {
   "cell_type": "markdown",
   "id": "58781e49",
   "metadata": {},
   "source": [
    "\"\"\"3. What do the functions os.getcwd() and os.chdir() do?\n",
    "\n",
    "Soln: - The method os.getcwd () in Python returns the current working directory of a process while function os.chdir return current working directory.\"\"\""
   ]
  },
  {
   "cell_type": "markdown",
   "id": "dc628139",
   "metadata": {},
   "source": [
    "\"\"\"4. What are the . and .. folders?\n",
    "\n",
    "Soln: - A single period (.) for a folder name is shorthand for \"this directory.\" Two periods (..) means \"the parent folder.\" \"\"\""
   ]
  },
  {
   "cell_type": "markdown",
   "id": "a4884af0",
   "metadata": {},
   "source": [
    "\"\"\"5. In C:\\bacon\\eggs\\spam.txt, which part is the dir name, and which part is the base name?\n",
    "    \n",
    "Soln: - Dir name is C:/\\bacon/\\eggs/, base name is spam.txt \"\"\""
   ]
  },
  {
   "cell_type": "markdown",
   "id": "67f9ed83",
   "metadata": {},
   "source": [
    "\"\"\"6. What are the three “mode” arguments that can be passed to the open() function?\n",
    "\n",
    "Soln: - Read mode: open('test.txt', 'r'), Write mode: open('test.txt', 'w'), Append mode: open('test.txt', 'a').\"\"\""
   ]
  },
  {
   "cell_type": "markdown",
   "id": "230f0581",
   "metadata": {},
   "source": [
    "\"\"\"7. What happens if an existing file is opened in write mode?\n",
    "\n",
    "Soln: - It will overwrite the existing file and start from scratch. Itmeans it will delete all the previous stored data.\"\"\""
   ]
  },
  {
   "cell_type": "markdown",
   "id": "95e1b6d2",
   "metadata": {},
   "source": [
    "\"\"\"8. How do you tell the difference between read() and readlines()?\n",
    "\n",
    "Soln: - read() method returns the contents of a file as a single large string value while readline() method get a list of string values from the file.\"\"\""
   ]
  },
  {
   "cell_type": "markdown",
   "id": "dfb888b3",
   "metadata": {},
   "source": [
    "\"\"\"9. What data structure does a shelf value resemble?\n",
    "\n",
    "Soln: - it resemble dictionar data structure.\"\"\""
   ]
  }
 ],
 "metadata": {
  "kernelspec": {
   "display_name": "Python 3 (ipykernel)",
   "language": "python",
   "name": "python3"
  },
  "language_info": {
   "codemirror_mode": {
    "name": "ipython",
    "version": 3
   },
   "file_extension": ".py",
   "mimetype": "text/x-python",
   "name": "python",
   "nbconvert_exporter": "python",
   "pygments_lexer": "ipython3",
   "version": "3.9.13"
  }
 },
 "nbformat": 4,
 "nbformat_minor": 5
}
