{
 "cells": [
  {
   "cell_type": "markdown",
   "id": "c3483156",
   "metadata": {},
   "source": [
    "\n",
    "\"\"\"1. What is the name of the feature responsible for generating Regex objects?\n",
    "\n",
    "Soln: - The re.compile() function returns Regex objects.\"\"\"\n"
   ]
  },
  {
   "cell_type": "markdown",
   "id": "3a783dec",
   "metadata": {},
   "source": [
    "\"\"\"2. Why do raw strings often appear in Regex objects?\n",
    "\n",
    "Soln: - Raw strings are used so that backslashes do not have to be escaped.\"\"\""
   ]
  },
  {
   "cell_type": "markdown",
   "id": "221037ff",
   "metadata": {},
   "source": [
    "\"\"\"3. What is the return value of the search() method?\n",
    "\n",
    "Soln: - The search() method returns Match objects.\"\"\""
   ]
  },
  {
   "cell_type": "markdown",
   "id": "75b46962",
   "metadata": {},
   "source": [
    "\"\"\"4. From a Match item, how do you get the actual strings that match the pattern?\n",
    "\n",
    "Soln: - The group() method returns strings of the matched text.\"\"\""
   ]
  },
  {
   "cell_type": "markdown",
   "id": "a911cbf7",
   "metadata": {},
   "source": [
    "\"\"\"5. In the regex which created from the r'(\\d\\d\\d)-(\\d\\d\\d-\\d\\d\\d\\d)', what does group zero cover? Group 2? Group 1?\n",
    "\n",
    "Soln: - Group 0 is the entire match, group 1 covers the first set of parentheses, and group 2 covers the second set of parentheses.\"\"\""
   ]
  },
  {
   "cell_type": "markdown",
   "id": "0f6509dd",
   "metadata": {},
   "source": [
    "\"\"\"6. In standard expression syntax, parentheses and intervals have distinct meanings. How can you tell a regex that you want it to fit real parentheses and periods?\n",
    "\n",
    "Soln: - Periods and parentheses can be escaped with a backslash: ., (, and ).\"\"\""
   ]
  },
  {
   "cell_type": "markdown",
   "id": "3b96b15b",
   "metadata": {},
   "source": [
    "\"\"\"7. The findall() method returns a string list or a list of string tuples. What causes it to return one of the two options?\n",
    "\n",
    "Soln: - If the regex has no groups, a list of strings is returned. If the regex has groups, a list of tuples of strings is returned.\"\"\""
   ]
  },
  {
   "cell_type": "markdown",
   "id": "b9e70445",
   "metadata": {},
   "source": [
    "\"\"\"8. In standard expressions, what does the | character mean?\n",
    "\n",
    "Soln: - The | character signifies matching “either, or” between two groups.\"\"\""
   ]
  },
  {
   "cell_type": "markdown",
   "id": "13c1f329",
   "metadata": {},
   "source": [
    "\"\"\"9. In regular expressions, what does the character stand for?\n",
    "\n",
    "Soln: - character can either mean “match zero or one of the preceding group” or be used to signify nongreedy matching.\"\"\""
   ]
  },
  {
   "cell_type": "markdown",
   "id": "21f24760",
   "metadata": {},
   "source": [
    "\"\"\"10.In regular expressions, what is the difference between the + and * characters?\n",
    "\n",
    "Soln: - The + matches one or more. The * matches zero or more.\"\"\""
   ]
  },
  {
   "cell_type": "markdown",
   "id": "153f28e0",
   "metadata": {},
   "source": [
    "\"\"\"11. What is the difference between {4} and {4,5} in regular expression?\n",
    "\n",
    "Soln: - The {4} matches exactly four instances of the preceding group. The {4,5} matches between four and five instances.\"\"\""
   ]
  },
  {
   "cell_type": "markdown",
   "id": "a7dc7b78",
   "metadata": {},
   "source": [
    "\"\"\"12. What do you mean by the \\d, \\w, and \\s shorthand character classes signify in regular expressions?\n",
    "\n",
    "Soln: - The \\d, \\w, and \\s shorthand character classes match a single digit, word, or space character, respectively.\"\"\""
   ]
  },
  {
   "cell_type": "markdown",
   "id": "19cee84f",
   "metadata": {},
   "source": [
    "\"\"\"13. What do means by \\D, \\W, and \\S shorthand character classes signify in regular expressions?\n",
    "\n",
    "Soln: - The \\D, \\W, and \\S shorthand character classes match a single character that is not a digit, word, or space character, respectively.\"\"\""
   ]
  },
  {
   "cell_type": "markdown",
   "id": "8ec79482",
   "metadata": {},
   "source": [
    "\"\"\"14. What is the difference between .? and .?\n",
    "\n",
    "soln: - The .* performs a greedy match, and the .*? performs a nongreedy match.\"\"\""
   ]
  },
  {
   "cell_type": "markdown",
   "id": "38bec90e",
   "metadata": {},
   "source": [
    "\"\"\"15. What is the syntax for matching both numbers and lowercase letters with a character class?\n",
    "\n",
    "Soln: - Either [0-9a-z] or [a-z0-9]\"\"\""
   ]
  },
  {
   "cell_type": "markdown",
   "id": "07729d9b",
   "metadata": {},
   "source": [
    "\"\"\"16. What is the procedure for making a normal expression in regax case insensitive?\n",
    "Soln: - Passing re.I or re.IGNORECASE as the second argument to re.compile() will make the matching case insensitive.\"\"\""
   ]
  },
  {
   "cell_type": "markdown",
   "id": "3adadd55",
   "metadata": {},
   "source": [
    "\"\"\"17. What does the . character normally match? What does it match if re.DOTALL is passed as 2nd argument in re.compile()?\n",
    "Soln: - The . character normally matches any character except the newline character. If re.DOTALL is passed as the second argument to re.compile(), then the dot will also match newline characters.\"\"\""
   ]
  },
  {
   "cell_type": "markdown",
   "id": "e9844a94",
   "metadata": {},
   "source": [
    "\"\"\"18. If numReg = re.compile(r'\\d+'), what will numRegex.sub('X', '11 drummers, 10 pipers, five rings, 4 hen') return?\n",
    "Soln: - 'X drummers, X pipers, five rings, X hens'\"\"\""
   ]
  },
  {
   "cell_type": "markdown",
   "id": "0453d5bc",
   "metadata": {},
   "source": [
    "\"\"\"19. What does passing re.VERBOSE as the 2nd argument to re.compile() allow to do?\n",
    "Soln: - The re.VERBOSE argument allows you to add whitespace and comments to the string passed to re.compile().\"\"\""
   ]
  },
  {
   "cell_type": "markdown",
   "id": "caf00c2b",
   "metadata": {},
   "source": [
    "\"\"\"20. How would you write a regex that match a number with comma for every three digits? It must match the given following:\n",
    "'42' '1,234' '6,368,745' but not the following: '12,34,567' (which has only two digits between the commas) '1234' (which lacks commas)\n",
    "\n",
    "Soln: - re.compile(r'^\\d{1,3}(,\\d{3})*$') will create this regex, but other regex strings can produce a similar regular expression.\"\"\""
   ]
  },
  {
   "cell_type": "markdown",
   "id": "22a9b3e9",
   "metadata": {},
   "source": [
    "\"\"\"21. How would you write a regex that matches the full name of someone whose last name is Watanabe? You can assume that the first name that comes before it will always be one word that begins with a capital letter. The regex must match the following:\n",
    "'Haruto Watanabe' 'Alice Watanabe' 'RoboCop Watanabe' but not the following: 'haruto Watanabe' (where the first name is not capitalized) 'Mr. Watanabe' (where the preceding word has a nonletter character) 'Watanabe' (which has no first name) 'Haruto watanabe' (where Watanabe is not capitalized)\n",
    "Soln: - re.compile(r'\\s([A-Z]\\w+)\\s(Watanabe)')\"\"\""
   ]
  },
  {
   "cell_type": "code",
   "execution_count": null,
   "id": "529ba25e",
   "metadata": {},
   "outputs": [],
   "source": []
  }
 ],
 "metadata": {
  "kernelspec": {
   "display_name": "Python 3 (ipykernel)",
   "language": "python",
   "name": "python3"
  },
  "language_info": {
   "codemirror_mode": {
    "name": "ipython",
    "version": 3
   },
   "file_extension": ".py",
   "mimetype": "text/x-python",
   "name": "python",
   "nbconvert_exporter": "python",
   "pygments_lexer": "ipython3",
   "version": "3.9.13"
  }
 },
 "nbformat": 4,
 "nbformat_minor": 5
}
