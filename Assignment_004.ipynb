{
 "cells": [
  {
   "cell_type": "markdown",
   "id": "6a83763f",
   "metadata": {},
   "source": [
    "# Assignment_4 | FSDS 2.0 | 14 April, 2023"
   ]
  },
  {
   "cell_type": "markdown",
   "id": "fc7bc4c3",
   "metadata": {},
   "source": [
    "1. What exactly is []?\n",
    "\n",
    "Sol: This paranthesis is used to create the list."
   ]
  },
  {
   "cell_type": "markdown",
   "id": "78b8bf86",
   "metadata": {},
   "source": [
    "'''2. In a list of values stored in a variable called spam, how would you assign the value 'hello' as the\n",
    "third value? (Assume [2, 4, 6, 8, 10] are in spam.)'''\n",
    "\n",
    "#Sol: - \n",
    "\n",
    "spam = [2,4,6,8,10]\n",
    "spam[2] = \"hello\"\n",
    "\n"
   ]
  },
  {
   "cell_type": "markdown",
   "id": "e6be55ec",
   "metadata": {},
   "source": [
    "3. What is the value of spam[int(int('3'*2)/11)]?\n",
    "\n",
    "Sol: - The indexing value will be zero so it will give the first index, i.e., 'a'"
   ]
  },
  {
   "cell_type": "markdown",
   "id": "c6b7da2f",
   "metadata": {},
   "source": [
    "4. What is the value of spam[-1]?\n",
    "\n",
    "Sol: - 'd'"
   ]
  },
  {
   "cell_type": "markdown",
   "id": "5592a177",
   "metadata": {},
   "source": [
    "5. What is the value of spam[:2]?\n",
    "\n",
    "Sol: - 'a', 'b', 'c'"
   ]
  },
  {
   "cell_type": "markdown",
   "id": "c734c4d7",
   "metadata": {},
   "source": [
    "6. What is the value of bacon.index('cat')?\n",
    "\n",
    "Sol: - 1"
   ]
  },
  {
   "cell_type": "markdown",
   "id": "89369781",
   "metadata": {},
   "source": [
    "'''7. How does bacon.append(99) change the look of the list value in bacon?\n",
    "\n",
    "Sol: - It will add 99 at the end of the list.'''\n",
    "\n",
    "bacon = [3.14,'cat',11,'cat',True]\n",
    "bacon.append(99)"
   ]
  },
  {
   "cell_type": "markdown",
   "id": "aaeaf130",
   "metadata": {},
   "source": [
    "'''8. How does bacon.remove('cat') change the look of the list in bacon?\n",
    "\n",
    "Sol: - It will delete the first 'cat element' '''\n",
    "\n",
    "bacon.remove('cat')\n",
    "bacon"
   ]
  },
  {
   "cell_type": "markdown",
   "id": "fac85508",
   "metadata": {},
   "source": [
    "9. What are the list concatenation and list replication operators?\n",
    "\n",
    "Sol: - List concatenation is use to add to list into one list. List replication will add the same list in the list."
   ]
  },
  {
   "cell_type": "markdown",
   "id": "186163e6",
   "metadata": {},
   "source": [
    "10. What is difference between the list methods append() and insert()?\n",
    "\n",
    "Sol: - append() - It will add a element at the end of the list\n",
    "insert() - It will add the  element at the specific index of the list."
   ]
  },
  {
   "cell_type": "markdown",
   "id": "2309f751",
   "metadata": {},
   "source": [
    "11. What are the two methods for removing items from a list?\n",
    "\n",
    "Sol: - (i) remove() - take element as the argument.\n",
    "(ii) pop() - It will take element position as a element."
   ]
  },
  {
   "cell_type": "markdown",
   "id": "e34e114d",
   "metadata": {},
   "source": [
    "12. Describe how list values and string values are identical.\n",
    "\n",
    "Sol: - list can take hetrogenous type data type. while string will tak eonly string is a primitive data type."
   ]
  },
  {
   "cell_type": "markdown",
   "id": "1cb5b167",
   "metadata": {},
   "source": [
    "13. What's the difference between tuples and lists?\n",
    "\n",
    "Sol: - List is the mutable type datatype while tuple is immutable datatype."
   ]
  },
  {
   "cell_type": "markdown",
   "id": "17d53bd7",
   "metadata": {},
   "source": [
    "'''14. How do you type a tuple value that only contains the integer 42?\n",
    "\n",
    "Sol: - '''\n",
    "\n",
    "tup = (42)"
   ]
  },
  {
   "cell_type": "markdown",
   "id": "eacdba59",
   "metadata": {},
   "source": [
    "'''15. How do you get a list value's tuple form? How do you get a tuple value&#39;s list form?\n",
    "\n",
    "Sol: - '''\n",
    "\n",
    "lst1 = [22,55,88]\n",
    "#Converting into tuple\n",
    "tup1 = tuple(lst1)\n",
    "\n",
    "tup2 = (44,88,66)\n",
    "#Converting into list\n",
    "lst2 = list(tup2)"
   ]
  },
  {
   "cell_type": "markdown",
   "id": "9dcf7879",
   "metadata": {},
   "source": [
    "16. Variables that \"contain list values are not necessarily lists themselves. Instead, what do they contain?\n",
    "\n",
    "Sol: - List is hetrogenous datatype. It mans it can contain aytype of datatypes."
   ]
  },
  {
   "cell_type": "markdown",
   "id": "fd3e2fca",
   "metadata": {},
   "source": [
    "17. How do you distinguish between copy.copy() and copy.deepcopy()?\n",
    "\n",
    "Sol: -\n",
    "\n",
    "A deep copy creates a new compound object before inserting copies of the items found in the original into it in a recursive manner."
   ]
  },
  {
   "cell_type": "code",
   "execution_count": null,
   "id": "44e70582",
   "metadata": {},
   "outputs": [],
   "source": []
  }
 ],
 "metadata": {
  "kernelspec": {
   "display_name": "Python 3 (ipykernel)",
   "language": "python",
   "name": "python3"
  },
  "language_info": {
   "codemirror_mode": {
    "name": "ipython",
    "version": 3
   },
   "file_extension": ".py",
   "mimetype": "text/x-python",
   "name": "python",
   "nbconvert_exporter": "python",
   "pygments_lexer": "ipython3",
   "version": "3.9.13"
  }
 },
 "nbformat": 4,
 "nbformat_minor": 5
}
