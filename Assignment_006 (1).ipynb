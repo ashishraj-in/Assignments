{
 "cells": [
  {
   "cell_type": "markdown",
   "id": "bbf3afa6",
   "metadata": {},
   "source": [
    "# Assignment_06 | FSDS 2.0 | 7th June, 2023"
   ]
  },
  {
   "cell_type": "markdown",
   "id": "7cbceec2",
   "metadata": {},
   "source": [
    "\"\"\" 1. What are escape characters, and how do you use them?\n",
    "Sol: - Escape charater is used to insert double coated string in between lines where it is not possible\n",
    "        i.e., txt = \"We are the so-called \\\"Vikings\\\" from the north.\"\"\"\""
   ]
  },
  {
   "cell_type": "markdown",
   "id": "a86fd652",
   "metadata": {},
   "source": [
    "\"\"\"2. What do the escape characters n and t stand for?\n",
    "\n",
    "Sol: - escape character /t is use to give a tab in the sentance while /n is use to break the line.\"\"\""
   ]
  },
  {
   "cell_type": "markdown",
   "id": "7be2602d",
   "metadata": {},
   "source": [
    "\"\"\"3. What is the way to include backslash characters in a string?\n",
    "\n",
    "Sol: - Raw strings treat the backslash (\\) as a literal character. just use the back slash with quot\"\"\""
   ]
  },
  {
   "cell_type": "markdown",
   "id": "e653a338",
   "metadata": {},
   "source": [
    "\"\"\"4. The string &quot;Howl&#39;s Moving Castle&quot; is a correct value. Why isn&#39;t the single quote character in the\n",
    "word Howl&#39;s not escaped a problem?\n",
    "\n",
    "Soln: -  Single quot does not created any problem as entire sentance is closed with the double quote\"\"\""
   ]
  },
  {
   "cell_type": "markdown",
   "id": "78c9cb6a",
   "metadata": {},
   "source": [
    "\"\"\"5. How do you write a string of newlines if you don&#39;t want to use the n character?\n",
    "\n",
    "soln: - we will print each line with new print function every time.\"\"\""
   ]
  },
  {
   "cell_type": "markdown",
   "id": "9a499a0b",
   "metadata": {},
   "source": []
  },
  {
   "cell_type": "markdown",
   "id": "43da07f2",
   "metadata": {},
   "source": [
    "\"\"\"6. What are the values of the given expressions?\n",
    "'Hello, world!'[1]\n",
    "'Hello, world'[0:5]\n",
    "'Hello, world'[:5]\n",
    "'Hello, world'[3:]\n",
    "\n",
    "soln:- e\n",
    "       Hello\n",
    "       Hello\n",
    "       o world\"\"\""
   ]
  },
  {
   "cell_type": "markdown",
   "id": "df16bb61",
   "metadata": {},
   "source": [
    "\n",
    "7. What are the values of the following expressions?\n",
    "'Hello'.upper(),\n",
    "'Hello'.upper().isupper(),\n",
    "'Hello'.upper().lower(),\n",
    "\n",
    "soln: - 'HELLO', True, 'hello'"
   ]
  },
  {
   "cell_type": "markdown",
   "id": "07c44777",
   "metadata": {},
   "source": [
    "8. What are the values of the following expressions?\n",
    "'Remember, remember, the fifth of July.'.split()\n",
    "\"-\".join('There can only one.'.split())\n",
    "\n",
    "soln: - 'There-can-only-one.'"
   ]
  },
  {
   "cell_type": "markdown",
   "id": "d12a0474",
   "metadata": {},
   "source": [
    "9. What are the methods for right-justifying, left-justifying, and centering a string?\n",
    "\n",
    "soln: - Python in its language offers several functions that helps to align string. Also, offers a way\n",
    "    to add user specified padding instead of blank space. this are use for allinment of the string"
   ]
  },
  {
   "cell_type": "markdown",
   "id": "294e35bf",
   "metadata": {},
   "source": [
    "10. What is the best way to remove whitespace characters from the start or end?\n",
    "\n",
    "soln: - strip() function is used to trim widespace from begininng and at the end of the string."
   ]
  }
 ],
 "metadata": {
  "kernelspec": {
   "display_name": "Python 3 (ipykernel)",
   "language": "python",
   "name": "python3"
  },
  "language_info": {
   "codemirror_mode": {
    "name": "ipython",
    "version": 3
   },
   "file_extension": ".py",
   "mimetype": "text/x-python",
   "name": "python",
   "nbconvert_exporter": "python",
   "pygments_lexer": "ipython3",
   "version": "3.9.13"
  }
 },
 "nbformat": 4,
 "nbformat_minor": 5
}
