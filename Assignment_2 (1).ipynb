{
 "cells": [
  {
   "cell_type": "markdown",
   "id": "e847b94f",
   "metadata": {},
   "source": [
    "#  Assignment_2 | FSDS 2.0 | 01 Jan, 2023"
   ]
  },
  {
   "cell_type": "markdown",
   "id": "724b905a",
   "metadata": {},
   "source": [
    "1.What are the two values of the Boolean data type? How do you write them?\n",
    "\n",
    "sol: -\n",
    " The two boolean dat type are TRUE and FALSE. We can simplly assign to any variable X and Y by :\n",
    "     X = True \n",
    "     Y = False"
   ]
  },
  {
   "cell_type": "markdown",
   "id": "b047ed99",
   "metadata": {},
   "source": [
    "2.What are the two different types of Boolean operators?\n",
    "\n",
    "sol: -\n",
    "    \n",
    "    The three different Boolean operators are:\n",
    "        1. Comparison Operators: - It comprises of six operators such as equal operator(==), not equal operator(!=), \n",
    "            greater than operator(>), less then operator(<), greater than eqal to operator(>=), and less then eqal to operator(<=).\n",
    "        \n",
    "        2.Binary boolean operator: - It comparises of three major operators such as and(when both the condition satisfied at the same time), or operator(when any of the condition satisfied) and not operator(when non of the condition satisfied).\n",
    "            \n",
    "        "
   ]
  },
  {
   "cell_type": "markdown",
   "id": "3dc83149",
   "metadata": {},
   "source": [
    "3. Make a list of each Boolean operator's truth tables (i.e. every possible combination of Boolean\n",
    "values for the operator and what it evaluate ).\n",
    "\n",
    "sol: -\n",
    "    \n",
    "    AND OPERATOR\n",
    "    True and True -> True\n",
    "    True and False -> False\n",
    "    False and False-> True\n",
    "    False and True -> False\n",
    "    \n",
    "    OR OPERATOR\n",
    "    True or True -> True\n",
    "    True or False -> True\n",
    "    False or True -> True\n",
    "    False or False -> False\n",
    "    \n",
    "    NOT OPERATOR\n",
    "    Not True -> False\n",
    "    not False _> True"
   ]
  },
  {
   "cell_type": "markdown",
   "id": "ca4a6705",
   "metadata": {},
   "source": [
    "4. What are the values of the following expressions?\n",
    "(5 > 4) and (3 == 5)\n",
    "not (5 > 4)\n",
    "(5 > 4) or (3 == 5)\n",
    "not ((5 > 4) or (3 == 5))\n",
    "(True and True) and (True == False)\n",
    "(not False) or (not True)\n",
    "\n",
    "Sol: -\n",
    "\n",
    "   i) False\n",
    "   ii) False\n",
    "   iii) True\n",
    "   iv) False\n",
    "   v) False\n",
    "   vi) True"
   ]
  },
  {
   "cell_type": "markdown",
   "id": "521fcced",
   "metadata": {},
   "source": [
    "5. What are the six comparison operators?\n",
    "\n",
    "Sol: -\n",
    "   \n",
    "    1. Comparison Operators: - It comprises of six operators: -\n",
    "                equal operator(==), \n",
    "                not equal operator(!=), \n",
    "                greater than operator(>), \n",
    "                less then operator(<), \n",
    "                greater than eqal to operator(>=), \n",
    "                and less then eqal to operator(<=)."
   ]
  },
  {
   "cell_type": "markdown",
   "id": "64f18597",
   "metadata": {},
   "source": [
    "Q7.\n",
    "Sol: -\n",
    "    first block is:\n",
    "        spam = 0\n",
    "    second block is:\n",
    "        if spam == 10:\n",
    "            print('egg')\n",
    "        if spam > 5:\n",
    "            print('bacon')\n",
    "    third block is:\n",
    "        else:\n",
    "            print('ham')\n",
    "            print('spam')\n",
    "            print('spam')"
   ]
  },
  {
   "cell_type": "markdown",
   "id": "8fa2170a",
   "metadata": {},
   "source": [
    "8. Write code that prints Hello if 1 is stored in spam, prints Howdy if 2 is stored in spam, and prints\n",
    "Greetings! if anything else is stored in spam.\n",
    "\n",
    "sol: -\n",
    "    spam = 0\n",
    "    if spam == 1:\n",
    "        print('Hello')\n",
    "    if spam ==2:\n",
    "        print('Howdy')\n",
    "    else:\n",
    "        print('Greetings!')"
   ]
  },
  {
   "cell_type": "code",
   "execution_count": 1,
   "id": "c586d9d8",
   "metadata": {},
   "outputs": [
    {
     "name": "stdout",
     "output_type": "stream",
     "text": [
      "Greetings!\n"
     ]
    }
   ],
   "source": [
    "    spam = 0\n",
    "    if spam == 1:\n",
    "        print('Hello')\n",
    "    if spam ==2:\n",
    "        print('Howdy')\n",
    "    else:\n",
    "        print('Greetings!')"
   ]
  },
  {
   "cell_type": "markdown",
   "id": "c51446a2",
   "metadata": {},
   "source": [
    "9.If your programme is stuck in an endless loop, what keys you’ll press?\n",
    "\n",
    "Sol:-\n",
    "    We can use ctrl+c combination of keys from our keyboard to manually terminate the loop.\n",
    "    \n",
    "    "
   ]
  },
  {
   "cell_type": "markdown",
   "id": "acb16900",
   "metadata": {},
   "source": [
    "10. How can you tell the difference between break and continue?\n",
    "\n",
    "sol: -\n",
    "  \n",
    "  Both Break and Continou statement are jump statements. break ends the loop while continue statement instruct to execute the     next look statement."
   ]
  },
  {
   "cell_type": "markdown",
   "id": "b8dad312",
   "metadata": {},
   "source": [
    "11. In a for loop, what is the difference between range(10), range(0, 10), and range(0, 10, 1)?\n",
    "\n",
    "sol: -\n",
    "  \n",
    "  The range(10) means iteration will start with o upto 10 which is same as range(0,10) while range(0,10,1) means iteration will run in the range of 0 to 10 but with a jump of 1 digit which is also same as range(0,10)"
   ]
  },
  {
   "cell_type": "markdown",
   "id": "1b1c7543",
   "metadata": {},
   "source": [
    "12. Write a short program that prints the numbers 1 to 10 using a for loop. Then write an equivalent\n",
    "program that prints the numbers 1 to 10 using a while loop.\n",
    "\n",
    "sol: -\n",
    "  \n",
    "  for i in range(1,11):\n",
    "        print(i)\n",
    " \n",
    "  n =10\n",
    "  i =1\n",
    "  while i<=n:\n",
    "        print(i)\n",
    "        i+=1"
   ]
  },
  {
   "cell_type": "markdown",
   "id": "2af9a57b",
   "metadata": {},
   "source": [
    "13. If you had a function named bacon() inside a module named spam, how would you call it after\n",
    "importing spam?\n",
    "\n",
    "sol: -\n",
    "  \n",
    "  If we have bacon() funtion in spam module then first we need to import the module and then we need to import the funtion too. from spam import bacon This above code is used to import funtions from given module. And then we can use the imported funtion for our own utilities.\n",
    "  "
   ]
  },
  {
   "cell_type": "code",
   "execution_count": null,
   "id": "1e3a9edf",
   "metadata": {},
   "outputs": [],
   "source": [
    "\n"
   ]
  },
  {
   "cell_type": "code",
   "execution_count": null,
   "id": "78a93a63",
   "metadata": {},
   "outputs": [],
   "source": []
  }
 ],
 "metadata": {
  "kernelspec": {
   "display_name": "Python 3 (ipykernel)",
   "language": "python",
   "name": "python3"
  },
  "language_info": {
   "codemirror_mode": {
    "name": "ipython",
    "version": 3
   },
   "file_extension": ".py",
   "mimetype": "text/x-python",
   "name": "python",
   "nbconvert_exporter": "python",
   "pygments_lexer": "ipython3",
   "version": "3.9.13"
  }
 },
 "nbformat": 4,
 "nbformat_minor": 5
}
