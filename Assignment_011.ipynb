{
 "cells": [
  {
   "cell_type": "markdown",
   "id": "08694ceb",
   "metadata": {},
   "source": [
    "# Assignment_011 | FSDS 2.0 | 8 June, 2023"
   ]
  },
  {
   "cell_type": "markdown",
   "id": "ed5f747d",
   "metadata": {},
   "source": [
    "\"\"\"1. Create an assert statement that throws an AssertionError if the variable spam is a negative\n",
    "integer.\n",
    "\n",
    "Soln: - \n",
    "    \n",
    "x = -5\n",
    "assert x > 0\n",
    "print(\"x is a positive number\")\n",
    "\n",
    "\"\"\""
   ]
  },
  {
   "cell_type": "markdown",
   "id": "8e12a512",
   "metadata": {},
   "source": [
    "\"\"\"2. Write an assert statement that triggers an AssertionError if the variables eggs and bacon contain\n",
    "strings that are the same as each other, even if their cases are different (that is, 'hello' and 'hello' are\n",
    "considered the same, and 'goodbye' and 'GOODbye' are also considered the same).\n",
    "\n",
    "Soln: - \n",
    "\n",
    "eggs = \"goodbye\"\n",
    "bacon = \"GOODbye\"\n",
    "\n",
    "assert eggs.upper() != bacon.upper()\n",
    "print(\"both are same\")\n",
    "\n",
    "\"\"\""
   ]
  },
  {
   "cell_type": "markdown",
   "id": "5e61b135",
   "metadata": {},
   "source": [
    "\"\"\"3. Create an assert statement that throws an AssertionError every time.assert(False, 'This assertion always triggers.')\n",
    "\n",
    "Soln: - \n",
    "\n",
    "assert(False, 'This assertion always triggers.')\n",
    "\n",
    "\"\"\""
   ]
  },
  {
   "cell_type": "markdown",
   "id": "066c706a",
   "metadata": {},
   "source": [
    "\"\"\"4. What are the two lines that must be present in your software in order to call logging.debug()?\n",
    "\n",
    "Soln: - \n",
    "    \n",
    "import logging \n",
    "logging.basicConfig(level=logging.DEBUG, format=' %(asctime)s - %(levelname)s - %(message)s')\n",
    "\n",
    "\"\"\""
   ]
  },
  {
   "cell_type": "markdown",
   "id": "cca9ca69",
   "metadata": {},
   "source": [
    "\"\"\"5. What are the two lines that your program must have in order to have logging.debug() send a\n",
    "logging message to a file named programLog.txt?\n",
    "\n",
    "Soln: - \n",
    "    \n",
    "import logging \n",
    "logging.basicConfig(filename='programLog.txt', level=logging.DEBUG, format=' %(asctime)s - %(levelname)s - %(message)s')\n",
    "\n",
    "\"\"\""
   ]
  },
  {
   "cell_type": "markdown",
   "id": "035469af",
   "metadata": {},
   "source": [
    "\"\"\"6. What are the five levels of logging?\n",
    "\n",
    "Soln: - \n",
    "    \n",
    "DEBUG, INFO, WARNING, ERROR, and CRITICAL\n",
    "\n",
    "\"\"\""
   ]
  },
  {
   "cell_type": "markdown",
   "id": "32c667d0",
   "metadata": {},
   "source": [
    "\"\"\"7. What line of code would you add to your software to disable all logging messages?\n",
    "\n",
    "Soln: - \n",
    "\n",
    "logging.disable(logging.CRITICAL)\n",
    "\n",
    "\"\"\""
   ]
  },
  {
   "cell_type": "markdown",
   "id": "b53699be",
   "metadata": {},
   "source": [
    "\"\"\"8.Why is using logging messages better than using print() to display the same message?\n",
    "\n",
    "Soln: - These are the various resions because of which logging messages better than using print() to display the same message\n",
    "\n",
    "1. We can disable logging messages without removing the logging function calls. \n",
    "2. We can selectively disable lower-level logging messages. \n",
    "3. We can create logging messages. Logging messages provides a timestamp.\n",
    "\n",
    "\"\"\"\n"
   ]
  },
  {
   "cell_type": "markdown",
   "id": "7a023223",
   "metadata": {},
   "source": [
    "\"\"\"9. What are the differences between the Step Over, Step In, and Step Out buttons in the debugger?\n",
    "\n",
    "Soln: - \n",
    "\n",
    "1.The Step button will move the debugger into a function call. \n",
    "2.The Over button will quickly execute the function call without stepping into it. \n",
    "3.The Out button will quickly execute the rest of the code until it steps out of the function it currently is in.\n",
    "\n",
    "\"\"\""
   ]
  },
  {
   "cell_type": "markdown",
   "id": "cc13304b",
   "metadata": {},
   "source": [
    "\"\"\"10.After you click Continue, when will the debugger stop ?\n",
    "\n",
    "Soln: -\n",
    "\n",
    "The debugger will stop when it has reached the end of the program or a line with a breakpoint.\n",
    "\n",
    "\"\"\""
   ]
  },
  {
   "cell_type": "markdown",
   "id": "b617d9fc",
   "metadata": {},
   "source": [
    "\"\"\"11. What is the concept of a breakpoint?\n",
    "\n",
    "Soln: - \n",
    "    \n",
    "breakpoint is a setting on a line of code that causes the debugger to pause when the program execution reaches that line.\n",
    "\n",
    "\"\"\""
   ]
  }
 ],
 "metadata": {
  "kernelspec": {
   "display_name": "Python 3 (ipykernel)",
   "language": "python",
   "name": "python3"
  },
  "language_info": {
   "codemirror_mode": {
    "name": "ipython",
    "version": 3
   },
   "file_extension": ".py",
   "mimetype": "text/x-python",
   "name": "python",
   "nbconvert_exporter": "python",
   "pygments_lexer": "ipython3",
   "version": "3.9.13"
  }
 },
 "nbformat": 4,
 "nbformat_minor": 5
}
