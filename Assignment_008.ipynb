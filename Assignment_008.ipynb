{
 "cells": [
  {
   "cell_type": "markdown",
   "id": "b20a266a",
   "metadata": {},
   "source": [
    "# Assignment_08 | FSDS 2.0 | 7th June, 2023 "
   ]
  },
  {
   "cell_type": "markdown",
   "id": "02ef7387",
   "metadata": {},
   "source": [
    "\"\"\"1. Is the Python Standard Library included with PyInputPlus?\n",
    "\n",
    "Soln: - No PyInputPlus is not included in python standard library. We have to install module before using it.\"\"\""
   ]
  },
  {
   "cell_type": "markdown",
   "id": "6b84fbbc",
   "metadata": {},
   "source": [
    "\"\"\"2. Why is PyInputPlus commonly imported with import pyinputplus as pypi?\n",
    "\n",
    "Soln: - PyInputPlus is helping programmer to take correct input from user. It keep asking for valid input till user don't enter the valid input.\"\"\""
   ]
  },
  {
   "cell_type": "markdown",
   "id": "f5a2fb9b",
   "metadata": {},
   "source": [
    "\"\"\"3. How do you distinguish between inputInt() and inputFloat()?\n",
    "\n",
    "Soln: - We can distinguished between inputInt() and inputFloat(). If we enter 5 then inputInt will return 5 while inputFloat will return 5.0.\"\"\""
   ]
  },
  {
   "cell_type": "markdown",
   "id": "b4786df9",
   "metadata": {},
   "source": [
    "\"\"\"4. Using PyInputPlus, how do you ensure that the user enters a whole number between 0 and 99?\n",
    "\n",
    "Soln: - Given below command can ensure that user will enter only whole number between 0 to 99.\n",
    "    \n",
    "    Call pyip.inputint(min=0, max=99).\"\"\""
   ]
  },
  {
   "cell_type": "markdown",
   "id": "f8f5d176",
   "metadata": {},
   "source": [
    "\"\"\"5. What is transferred to the keyword arguments allowRegexes and blockRegexes?\n",
    "\n",
    "Soln: - A list of regex strings that are either explicitly allowed or denied\"\"\""
   ]
  },
  {
   "cell_type": "markdown",
   "id": "22a1daee",
   "metadata": {},
   "source": [
    "\"\"\"6. If a blank input is entered three times, what does inputStr(limit=3) do?\n",
    "\n",
    "Soln:- It will through a message RetryLimitException or TimeoutException.\"\"\""
   ]
  },
  {
   "cell_type": "markdown",
   "id": "9c179617",
   "metadata": {},
   "source": [
    "\"\"\"7. If blank input is entered three times, what does inputStr(limit=3, default='hello') do?\n",
    "\n",
    "Soln:- It will through message which is set default. in this case it will be 'hello'.\"\"\""
   ]
  },
  {
   "cell_type": "code",
   "execution_count": null,
   "id": "d30a2998",
   "metadata": {},
   "outputs": [],
   "source": []
  }
 ],
 "metadata": {
  "kernelspec": {
   "display_name": "Python 3 (ipykernel)",
   "language": "python",
   "name": "python3"
  },
  "language_info": {
   "codemirror_mode": {
    "name": "ipython",
    "version": 3
   },
   "file_extension": ".py",
   "mimetype": "text/x-python",
   "name": "python",
   "nbconvert_exporter": "python",
   "pygments_lexer": "ipython3",
   "version": "3.9.13"
  }
 },
 "nbformat": 4,
 "nbformat_minor": 5
}
