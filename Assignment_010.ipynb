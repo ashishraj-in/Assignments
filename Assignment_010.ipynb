{
 "cells": [
  {
   "cell_type": "markdown",
   "id": "57543f5f",
   "metadata": {},
   "source": [
    "\"\"\"1. How do you distinguish between shutil.copy() and shutil.copytree()?\n",
    "\n",
    "Soln: - While shutil.copy()will copy a single file, shutil.copytree()will copy an entire folder and every folder and file contained in it.\"\"\""
   ]
  },
  {
   "cell_type": "markdown",
   "id": "3e48a740",
   "metadata": {},
   "source": [
    "\"\"\"2. What function is used to rename files?\n",
    "\n",
    "Soln: - In Python, we can rename a file using the function rename () available in the OS module.\"\"\""
   ]
  },
  {
   "cell_type": "markdown",
   "id": "bca24334",
   "metadata": {},
   "source": [
    "\"\"\"3. What is the difference between the delete functions in the send2trash and shutil modules?\n",
    "\n",
    "Soln: - Delete function will delete the file permanently while send2trash will send file to recycle bin so that it can be retrive. send2trash is available in os module.\"\"\""
   ]
  },
  {
   "cell_type": "markdown",
   "id": "967a36b5",
   "metadata": {},
   "source": [
    "\"\"\"4.ZipFile objects have a close() method just like File objects’ close() method. What ZipFile method is\n",
    "equivalent to File objects’ open() method?\n",
    "\n",
    "Soln: - The equivalent method of File objects’ open() method for ZipFile objects is zipfile.ZipFile(). The first argument is the filename and the second argument is the mode to open the ZIP file in (read, write, or append).\"\"\""
   ]
  },
  {
   "cell_type": "markdown",
   "id": "2dcb4459",
   "metadata": {},
   "source": [
    "\"\"\"5. Create a programme that searches a folder tree for files with a certain file extension (such as .pdf\n",
    "or .jpg). Copy these files from whatever location they are in to a new folder.\n",
    "\n",
    "Soln: - I don't know the answer of this question.\"\"\""
   ]
  },
  {
   "cell_type": "code",
   "execution_count": null,
   "id": "c6609ff0",
   "metadata": {},
   "outputs": [],
   "source": []
  }
 ],
 "metadata": {
  "kernelspec": {
   "display_name": "Python 3 (ipykernel)",
   "language": "python",
   "name": "python3"
  },
  "language_info": {
   "codemirror_mode": {
    "name": "ipython",
    "version": 3
   },
   "file_extension": ".py",
   "mimetype": "text/x-python",
   "name": "python",
   "nbconvert_exporter": "python",
   "pygments_lexer": "ipython3",
   "version": "3.9.13"
  }
 },
 "nbformat": 4,
 "nbformat_minor": 5
}
