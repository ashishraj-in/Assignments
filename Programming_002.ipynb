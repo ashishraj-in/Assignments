{
 "cells": [
  {
   "cell_type": "markdown",
   "id": "bbe18c5f",
   "metadata": {},
   "source": [
    "# ProgrammingAssignment_002 | FSDS 2.0 | 8 June, 2022"
   ]
  },
  {
   "cell_type": "code",
   "execution_count": null,
   "id": "74ecc272",
   "metadata": {},
   "outputs": [],
   "source": [
    "\"\"\"1. Write a Python program to convert kilometers to miles?\"\"\"\n",
    "\n",
    "x = int(input(\"PLease inter distance in KM\"))\n",
    "y = x*0.621\n",
    "print(y)"
   ]
  },
  {
   "cell_type": "code",
   "execution_count": null,
   "id": "8eb210fe",
   "metadata": {},
   "outputs": [],
   "source": [
    "\"\"\"2. Write a Python program to convert Celsius to Fahrenheit?\"\"\"\n",
    "\n",
    "temp_c = float(input(\"Enter today's temperature\"))\n",
    "temp_f = temp_c*9/5 + 32\n",
    "print(temp_f)"
   ]
  },
  {
   "cell_type": "code",
   "execution_count": null,
   "id": "f722b671",
   "metadata": {},
   "outputs": [],
   "source": [
    "\"\"\"3. Write a Python program to display calendar?\"\"\"\n",
    "\n",
    "# import module\n",
    "import calendar\n",
    "\n",
    "yy = 2023\n",
    "mm = 4\n",
    "\n",
    "# display the calendar\n",
    "print(calendar.month(yy, mm))\n"
   ]
  },
  {
   "cell_type": "code",
   "execution_count": null,
   "id": "a6600eb4",
   "metadata": {},
   "outputs": [],
   "source": [
    "\"\"\"4. Write a Python program to solve quadratic equation?\"\"\"\n",
    "\n",
    "\n",
    "import cmath\n",
    " \n",
    "a = 1\n",
    "b = 4\n",
    "c = 2\n",
    " \n",
    "disciminant = (b**2) - (4 * a*c)\n",
    " \n",
    "ans1 = (-b-cmath.sqrt(discriminant))/(2 * a)\n",
    "ans2 = (-b + cmath.sqrt(discriminant))/(2 * a)\n",
    " \n",
    "print('The roots are')\n",
    "print(ans1)\n",
    "print(ans2)"
   ]
  },
  {
   "cell_type": "code",
   "execution_count": null,
   "id": "3cd85ad0",
   "metadata": {},
   "outputs": [],
   "source": [
    "\"\"\"5. Write a Python program to swap two variables without temp variable?\"\"\"\n",
    "\n",
    "x = 6\n",
    "y = 9\n",
    "\n",
    "x, y = y, x\n",
    "print(\"x =\", x)\n",
    "print(\"y =\", y)\n"
   ]
  }
 ],
 "metadata": {
  "kernelspec": {
   "display_name": "Python 3 (ipykernel)",
   "language": "python",
   "name": "python3"
  },
  "language_info": {
   "codemirror_mode": {
    "name": "ipython",
    "version": 3
   },
   "file_extension": ".py",
   "mimetype": "text/x-python",
   "name": "python",
   "nbconvert_exporter": "python",
   "pygments_lexer": "ipython3",
   "version": "3.9.13"
  }
 },
 "nbformat": 4,
 "nbformat_minor": 5
}
