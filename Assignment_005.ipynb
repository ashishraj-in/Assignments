{
 "cells": [
  {
   "cell_type": "markdown",
   "id": "51ae92ae",
   "metadata": {},
   "source": [
    "# Assignment_5 | FSDS 2.0 | 14 April, 2023"
   ]
  },
  {
   "cell_type": "markdown",
   "id": "94631fe1",
   "metadata": {},
   "source": [
    "\"\"\"1. What does an empty dictionary&#39;s code look like?\n",
    "\n",
    "Sol: - \"\"\"\n",
    "\n",
    "dict1 = {}"
   ]
  },
  {
   "cell_type": "markdown",
   "id": "64005347",
   "metadata": {},
   "source": [
    "\"\"\"2. What is the value of a dictionary value with the key 'foo' and the value 42?\n",
    "\n",
    "Sol: - \"\"\"\n",
    "\n",
    "dict2 = {\"foo\":42}"
   ]
  },
  {
   "cell_type": "markdown",
   "id": "1ceff44a",
   "metadata": {},
   "source": [
    "3. What is the most significant distinction between a dictionary and a list?\n",
    "\n",
    "Sol: - A dictionary stores data as a key-value pair, and the value can be manipulated with the help of the key, whereas in a list, data is stored against the index value and can be manipulated with the help of the index."
   ]
  },
  {
   "cell_type": "markdown",
   "id": "fe7bab12",
   "metadata": {},
   "source": [
    "'''4. What happens if you try to access spam['foo'] if spam is {'bar': 100}?\n",
    "\n",
    "sol: - It will through \"KEY\" error. '''\n",
    "\n",
    "spam = {'bar':100}\n",
    "spam['foo']"
   ]
  },
  {
   "cell_type": "markdown",
   "id": "7aa7ea77",
   "metadata": {},
   "source": [
    "5. If a dictionary is stored in spam, what is the difference between the expressions 'cat' in spam and 'cat' in spam.keys()?\n",
    "\n",
    "Sol: - 'cat' in spam means it is value of the dictionary whereas spam.keys() will give the list of all the keys of dictionary hence 'cat' spam.keys() is key value."
   ]
  },
  {
   "cell_type": "markdown",
   "id": "63031ced",
   "metadata": {},
   "source": [
    "6. If a dictionary is stored in spam, what is the difference between the expressions 'cat' in spam and'cat' in spam.values()?\n",
    "\n",
    "Sol: - 'cat' in spam means it is value of the dictionary whereas spam.values() will give the list of all the values of dictionary hence 'cat' also the spam.values() is value of the dictionary."
   ]
  },
  {
   "cell_type": "markdown",
   "id": "b8987d34",
   "metadata": {},
   "source": [
    "#7. What is a shortcut for the following code?\n",
    "if 'colour' not in spam:\n",
    "spam['colour'] = 'black'\n",
    "\n",
    "#Sol: - \n",
    "\n",
    "spam[\"colour\"] = 'black'\n",
    "    \n"
   ]
  },
  {
   "cell_type": "code",
   "execution_count": null,
   "id": "6ef69008",
   "metadata": {},
   "outputs": [],
   "source": []
  }
 ],
 "metadata": {
  "kernelspec": {
   "display_name": "Python 3 (ipykernel)",
   "language": "python",
   "name": "python3"
  },
  "language_info": {
   "codemirror_mode": {
    "name": "ipython",
    "version": 3
   },
   "file_extension": ".py",
   "mimetype": "text/x-python",
   "name": "python",
   "nbconvert_exporter": "python",
   "pygments_lexer": "ipython3",
   "version": "3.9.13"
  }
 },
 "nbformat": 4,
 "nbformat_minor": 5
}
